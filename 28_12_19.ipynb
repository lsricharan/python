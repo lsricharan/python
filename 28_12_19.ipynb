{
  "nbformat": 4,
  "nbformat_minor": 0,
  "metadata": {
    "colab": {
      "name": "28-12-19.ipynb",
      "provenance": [],
      "include_colab_link": true
    },
    "kernelspec": {
      "name": "python3",
      "display_name": "Python 3"
    }
  },
  "cells": [
    {
      "cell_type": "markdown",
      "metadata": {
        "id": "view-in-github",
        "colab_type": "text"
      },
      "source": [
        "<a href=\"https://colab.research.google.com/github/lsricharan/python/blob/master/28_12_19.ipynb\" target=\"_parent\"><img src=\"https://colab.research.google.com/assets/colab-badge.svg\" alt=\"Open In Colab\"/></a>"
      ]
    },
    {
      "cell_type": "code",
      "metadata": {
        "id": "8UBLeR1gs5tR",
        "colab_type": "code",
        "colab": {
          "base_uri": "https://localhost:8080/",
          "height": 34
        },
        "outputId": "647b8993-2376-4e14-ef29-8450f0928e40"
      },
      "source": [
        "def lists(n):\n",
        "  if(n[0]==n[-1]):\n",
        "    return \"true\"\n",
        "  else:\n",
        "    return \"false\"\n",
        "lists([1,3,5,7,9])\n"
      ],
      "execution_count": 6,
      "outputs": [
        {
          "output_type": "execute_result",
          "data": {
            "text/plain": [
              "'false'"
            ]
          },
          "metadata": {
            "tags": []
          },
          "execution_count": 6
        }
      ]
    },
    {
      "cell_type": "code",
      "metadata": {
        "id": "cFttDVNkvbxs",
        "colab_type": "code",
        "colab": {
          "base_uri": "https://localhost:8080/",
          "height": 204
        },
        "outputId": "fc5fe68e-f429-40dd-b223-8f670958f0b8"
      },
      "source": [
        "#1\n",
        "#22\n",
        "#333\n",
        "#4444\n",
        "#55555\n",
        "\n",
        "for i in range(1,6):\n",
        "  print(\"\\n\")\n",
        "  for j in range(1,i+1):\n",
        "    print(i,end=\" \")\n",
        "    "
      ],
      "execution_count": 14,
      "outputs": [
        {
          "output_type": "stream",
          "text": [
            "\n",
            "\n",
            "1 \n",
            "\n",
            "2 2 \n",
            "\n",
            "3 3 3 \n",
            "\n",
            "4 4 4 4 \n",
            "\n",
            "5 5 5 5 5 "
          ],
          "name": "stdout"
        }
      ]
    },
    {
      "cell_type": "code",
      "metadata": {
        "id": "48IYRCjWvMYA",
        "colab_type": "code",
        "colab": {
          "base_uri": "https://localhost:8080/",
          "height": 34
        },
        "outputId": "361e804d-e2dc-4c4a-ec73-bd0b746ded4a"
      },
      "source": [
        "def string(str):\n",
        "  li=list(str)\n",
        "  print(li[::2])\n",
        "string(\"pynative\")\n"
      ],
      "execution_count": 16,
      "outputs": [
        {
          "output_type": "stream",
          "text": [
            "['p', 'n', 't', 'v']\n"
          ],
          "name": "stdout"
        }
      ]
    },
    {
      "cell_type": "code",
      "metadata": {
        "id": "yKPplkL3wHJx",
        "colab_type": "code",
        "colab": {
          "base_uri": "https://localhost:8080/",
          "height": 85
        },
        "outputId": "74e363f1-ea6c-4bbc-c0f9-2fd65a30ddd8"
      },
      "source": [
        "y = int(input(\"enter your year\"))\n",
        "r = str(input(\"enter your name\"))\n",
        "e = int(input(\"enter present age\"))\n",
        "print(\"age after 100 years\",y-e+100)\n"
      ],
      "execution_count": 18,
      "outputs": [
        {
          "output_type": "stream",
          "text": [
            "enter your year2019\n",
            "enter your namecharan\n",
            "enter present age19\n",
            "age after 100 years 2100\n"
          ],
          "name": "stdout"
        }
      ]
    },
    {
      "cell_type": "code",
      "metadata": {
        "id": "WvtXG_cfw1lt",
        "colab_type": "code",
        "colab": {}
      },
      "source": [
        ""
      ],
      "execution_count": 0,
      "outputs": []
    }
  ]
}